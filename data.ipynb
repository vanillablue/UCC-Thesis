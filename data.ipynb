{
 "cells": [
  {
   "cell_type": "code",
   "execution_count": 1,
   "metadata": {},
   "outputs": [],
   "source": [
    "import pandas as pd"
   ]
  },
  {
   "cell_type": "code",
   "execution_count": 2,
   "metadata": {},
   "outputs": [],
   "source": [
    "import eikon as ek\n",
    "ek.set_app_key('cd027055730e46e08ec6eeeaf0986d86824ec3ff')\n"
   ]
  },
  {
   "cell_type": "code",
   "execution_count": 2,
   "metadata": {},
   "outputs": [
    {
     "name": "stdout",
     "output_type": "stream",
     "text": [
      "Collecting eikon\n",
      "  Using cached eikon-1.1.2-py3-none-any.whl (47 kB)\n",
      "Requirement already satisfied, skipping upgrade: nest-asyncio==1.0.0 in /Users/aleenaalex/opt/anaconda3/lib/python3.7/site-packages (from eikon) (1.0.0)\n",
      "Requirement already satisfied, skipping upgrade: appdirs==1.4.3 in /Users/aleenaalex/opt/anaconda3/lib/python3.7/site-packages (from eikon) (1.4.3)\n",
      "Requirement already satisfied, skipping upgrade: websocket-client in /Users/aleenaalex/opt/anaconda3/lib/python3.7/site-packages (from eikon) (0.57.0)\n",
      "Requirement already satisfied, skipping upgrade: requests-async==0.6.2 in /Users/aleenaalex/opt/anaconda3/lib/python3.7/site-packages (from eikon) (0.6.2)\n",
      "Requirement already satisfied, skipping upgrade: requests==2.22.0 in /Users/aleenaalex/opt/anaconda3/lib/python3.7/site-packages (from eikon) (2.22.0)\n",
      "Requirement already satisfied, skipping upgrade: deprecation in /Users/aleenaalex/opt/anaconda3/lib/python3.7/site-packages (from eikon) (2.1.0)\n",
      "Requirement already satisfied, skipping upgrade: python-dateutil in /Users/aleenaalex/opt/anaconda3/lib/python3.7/site-packages (from eikon) (2.8.0)\n",
      "Requirement already satisfied, skipping upgrade: pandas>=0.17.0 in /Users/aleenaalex/opt/anaconda3/lib/python3.7/site-packages (from eikon) (0.25.1)\n",
      "Requirement already satisfied, skipping upgrade: numpy>=1.11.0 in /Users/aleenaalex/opt/anaconda3/lib/python3.7/site-packages (from eikon) (1.17.2)\n",
      "Requirement already satisfied, skipping upgrade: datetime in /Users/aleenaalex/opt/anaconda3/lib/python3.7/site-packages (from eikon) (4.3)\n",
      "Requirement already satisfied, skipping upgrade: six in /Users/aleenaalex/opt/anaconda3/lib/python3.7/site-packages (from websocket-client->eikon) (1.12.0)\n",
      "Requirement already satisfied, skipping upgrade: http3==0.6.* in /Users/aleenaalex/opt/anaconda3/lib/python3.7/site-packages (from requests-async==0.6.2->eikon) (0.6.7)\n",
      "Requirement already satisfied, skipping upgrade: idna<2.9,>=2.5 in /Users/aleenaalex/opt/anaconda3/lib/python3.7/site-packages (from requests==2.22.0->eikon) (2.8)\n",
      "Requirement already satisfied, skipping upgrade: urllib3!=1.25.0,!=1.25.1,<1.26,>=1.21.1 in /Users/aleenaalex/opt/anaconda3/lib/python3.7/site-packages (from requests==2.22.0->eikon) (1.24.2)\n",
      "Requirement already satisfied, skipping upgrade: chardet<3.1.0,>=3.0.2 in /Users/aleenaalex/opt/anaconda3/lib/python3.7/site-packages (from requests==2.22.0->eikon) (3.0.4)\n",
      "Requirement already satisfied, skipping upgrade: certifi>=2017.4.17 in /Users/aleenaalex/opt/anaconda3/lib/python3.7/site-packages (from requests==2.22.0->eikon) (2019.9.11)\n",
      "Requirement already satisfied, skipping upgrade: packaging in /Users/aleenaalex/opt/anaconda3/lib/python3.7/site-packages (from deprecation->eikon) (19.2)\n",
      "Requirement already satisfied, skipping upgrade: pytz>=2017.2 in /Users/aleenaalex/opt/anaconda3/lib/python3.7/site-packages (from pandas>=0.17.0->eikon) (2019.3)\n",
      "Requirement already satisfied, skipping upgrade: zope.interface in /Users/aleenaalex/opt/anaconda3/lib/python3.7/site-packages (from datetime->eikon) (5.1.0)\n",
      "Requirement already satisfied, skipping upgrade: h11==0.8.* in /Users/aleenaalex/opt/anaconda3/lib/python3.7/site-packages (from http3==0.6.*->requests-async==0.6.2->eikon) (0.8.1)\n",
      "Requirement already satisfied, skipping upgrade: h2==3.* in /Users/aleenaalex/opt/anaconda3/lib/python3.7/site-packages (from http3==0.6.*->requests-async==0.6.2->eikon) (3.2.0)\n",
      "Requirement already satisfied, skipping upgrade: rfc3986==1.* in /Users/aleenaalex/opt/anaconda3/lib/python3.7/site-packages (from http3==0.6.*->requests-async==0.6.2->eikon) (1.4.0)\n",
      "Requirement already satisfied, skipping upgrade: pyparsing>=2.0.2 in /Users/aleenaalex/opt/anaconda3/lib/python3.7/site-packages (from packaging->deprecation->eikon) (2.4.2)\n",
      "Requirement already satisfied, skipping upgrade: setuptools in /Users/aleenaalex/opt/anaconda3/lib/python3.7/site-packages (from zope.interface->datetime->eikon) (41.4.0)\n",
      "Requirement already satisfied, skipping upgrade: hpack<4,>=3.0 in /Users/aleenaalex/opt/anaconda3/lib/python3.7/site-packages (from h2==3.*->http3==0.6.*->requests-async==0.6.2->eikon) (3.0.0)\n",
      "Requirement already satisfied, skipping upgrade: hyperframe<6,>=5.2.0 in /Users/aleenaalex/opt/anaconda3/lib/python3.7/site-packages (from h2==3.*->http3==0.6.*->requests-async==0.6.2->eikon) (5.2.0)\n",
      "Installing collected packages: eikon\n",
      "Successfully installed eikon-1.1.2\n",
      "\u001b[33mWARNING: You are using pip version 20.0.2; however, version 20.1 is available.\n",
      "You should consider upgrading via the '/Users/aleenaalex/opt/anaconda3/bin/python -m pip install --upgrade pip' command.\u001b[0m\n",
      "Note: you may need to restart the kernel to use updated packages.\n"
     ]
    }
   ],
   "source": [
    "pip install --upgrade eikon"
   ]
  },
  {
   "cell_type": "code",
   "execution_count": 3,
   "metadata": {},
   "outputs": [
    {
     "name": "stdout",
     "output_type": "stream",
     "text": [
      "Help on package eikon:\n",
      "\n",
      "NAME\n",
      "    eikon - # coding: utf-8\n",
      "\n",
      "PACKAGE CONTENTS\n",
      "    Profile\n",
      "    data_grid\n",
      "    eikonError\n",
      "    json_requests\n",
      "    news_request\n",
      "    streaming_session (package)\n",
      "    symbology\n",
      "    time_series\n",
      "    tools\n",
      "\n",
      "SUBMODULES\n",
      "    cache\n",
      "    desktop_session\n",
      "    istream_callback\n",
      "    itemstream\n",
      "    session\n",
      "    stream\n",
      "    stream_connection\n",
      "    streamingprice\n",
      "    streamingprice_callback\n",
      "    streamingprices\n",
      "\n",
      "VERSION\n",
      "    1.1.2\n",
      "\n",
      "FILE\n",
      "    /Users/aleenaalex/opt/anaconda3/lib/python3.7/site-packages/eikon/__init__.py\n",
      "\n",
      "\n"
     ]
    }
   ],
   "source": [
    "help(ek)"
   ]
  },
  {
   "cell_type": "code",
   "execution_count": 4,
   "metadata": {},
   "outputs": [
    {
     "name": "stdout",
     "output_type": "stream",
     "text": [
      "Help on function get_news_headlines in module eikon.news_request:\n",
      "\n",
      "get_news_headlines(query='Topic:TOPALL and Language:LEN', count=10, date_from=None, date_to=None, raw_output=False, debug=False)\n",
      "    Returns a list of news headlines\n",
      "    \n",
      "    Parameters\n",
      "    ----------\n",
      "    query: string, optional\n",
      "        News headlines search criteria.\n",
      "        The text can contain RIC codes, company names, country names and\n",
      "        operators (AND, OR, NOT, IN, parentheses and quotes for explicit search…).\n",
      "    \n",
      "        Tip: Append 'R:' in front of RIC names to improve performance.\n",
      "    \n",
      "        Default: Top News written in English\n",
      "    \n",
      "    count: int, optional\n",
      "        Max number of headlines retrieved.\n",
      "    \n",
      "        Value Range: [1-100].\n",
      "    \n",
      "        Default: 10\n",
      "    \n",
      "    date_from: string or datetime, optional\n",
      "        Beginning of date range.\n",
      "    \n",
      "        String format is: '%Y-%m-%dT%H:%M:%S'. e.g. '2016-01-20T15:04:05'.\n",
      "    \n",
      "    date_to: string or datetime, optional\n",
      "        End of date range.\n",
      "    \n",
      "        String format is: '%Y-%m-%dT%H:%M:%S'. e.g. '2016-01-20T15:04:05'.\n",
      "    \n",
      "    raw_output: boolean, optional\n",
      "        Set this parameter to True to get the data in json format\n",
      "        if set to False, the function will return a data frame.\n",
      "    \n",
      "        Default: False\n",
      "    \n",
      "    debug: bool, optional\n",
      "        When set to True, the json request and response are printed.\n",
      "    \n",
      "        Default: False\n",
      "    \n",
      "    Returns\n",
      "    -------\n",
      "        pandas.DataFrame\n",
      "            Returns a DataFrame of news headlines with the following columns:\n",
      "    \n",
      "            - Index               : Timestamp of the publication time\n",
      "            - version_created     : Date of the latest update on the news\n",
      "            - text                : Text of the Headline\n",
      "            - story_id            : Identifier to be used to retrieve the full story using the get_news_story function\n",
      "            - source_code         : Second news identifier\n",
      "    \n",
      "    Raises\n",
      "    ----------\n",
      "        Exception\n",
      "            If http request fails or if server returns an error.\n",
      "    \n",
      "        AttributeError\n",
      "            If a parameter type is wrong.\n",
      "    \n",
      "    Examples\n",
      "    --------\n",
      "    >>> import eikon as ek\n",
      "    >>> ek.set_app_key('set your app id here')\n",
      "    >>> headlines = ek.get_news_headlines(\"R:MSFT.O\", 2)\n",
      "    >>> headlines\n",
      "    versionCreated                                   text\n",
      "    2016-04-13 18:28:57.000 2.016-04-13 18:28:59.001 RBC Applies Blockchain as a Loyalty Boost...\n",
      "    2016-04-13 17:28:21.577 2016-04-13 17:28:21.671 UPDATE 2-Long-stalled email privacy bill  ...\n",
      "                               storyId\n",
      "    2016-04-13 18:28:57.000    urn:newsml:reuters.com:20160413:nNRA1uxh03:1\n",
      "    2016-04-13 17:28:21.577    urn:newsml:reuters.com:20160413:nL2N17G16Q:2\n",
      "    \n",
      "    >>> headlines = ek.get_news_headlines(\"R:MSFT.O IN FRANCE\")\n",
      "    >>> headlines = ek.get_news_headlines(\"R:MSFT.O IN FRANCE IN ENGLISH\", count=5)\n",
      "    >>> headlines = ek.get_news_headlines(\"OBA* OR CLINTON IN ENGLISH\", count=5)\n",
      "\n"
     ]
    }
   ],
   "source": [
    "help(ek.get_news_headlines)"
   ]
  },
  {
   "cell_type": "code",
   "execution_count": 866,
   "metadata": {},
   "outputs": [],
   "source": [
    "fordnews01.csv\n",
    "\n",
    "ford_news = ek.get_news_headlines('FORD',count =100, date_from='2020-01-07T09:00:00', date_to='2020-01-09T18:00:00').sort_index()\n",
    "gm_news = ek.get_news_headlines('General Motors',count =100, date_from='2020-01-08T09:00:00', date_to='2020-01-09T18:00:00').sort_index()"
   ]
  },
  {
   "cell_type": "code",
   "execution_count": 867,
   "metadata": {},
   "outputs": [
    {
     "name": "stdout",
     "output_type": "stream",
     "text": [
      "2020-01-07 10:02:22.333    OTS NEWS: Ford Motor Company Switzerland SA / ...\n",
      "2020-01-07 10:57:57.000    Ferrari joins European auto lobby ACEA four ye...\n",
      "2020-01-07 11:02:16.743       US light vehicle sales squeak by again in 2019\n",
      "2020-01-07 11:06:50.000    Institut - Fortschritte beim Ökostrom reichen ...\n",
      "2020-01-07 13:00:55.249    BRAZIL AUTO PRODUCTION POSTS 25 PCT FALL IN DE...\n",
      "                                                 ...                        \n",
      "2020-01-09 13:28:24.000    Como as gigantes de tecnologia estão ajudando ...\n",
      "2020-01-09 14:03:03.187    Garmin EV-specific navigation for Ford Mustang...\n",
      "2020-01-09 14:18:45.441    Reuters Insider - U.S. Morning Call: Global st...\n",
      "2020-01-09 14:48:43.000    Las grandes tecnológicas están ayudando a conv...\n",
      "2020-01-09 15:51:23.807    Reuters Insider - Elon Musk could be in for a ...\n",
      "Name: text, Length: 74, dtype: object\n",
      "2020-01-08 10:04:10.000    ANHUI ZHONGDING SEALING PARTS <000887.SZ> SAYS...\n",
      "2020-01-08 10:04:10.000    BRIEF-Anhui Zhongding Sealing Parts Becomes Ge...\n",
      "2020-01-08 13:00:00.000    Two U.S. auto trade groups merge as regulatory...\n",
      "2020-01-08 13:51:08.000    Producción y exportación de autos México caen ...\n",
      "2020-01-08 17:00:00.000    U.S. to outline strong support for self-drivin...\n",
      "2020-01-08 17:29:01.320    Reuters Insider - When Tesla's double the valu...\n",
      "2020-01-08 17:47:44.101    GM - GM Delivers 3.09 Million Vehicles in Chin...\n",
      "2020-01-08 18:30:56.000    REFILE-Tesla's market value eclipses GM and Fo...\n",
      "2020-01-08 19:15:00.172    Shiloh Industries Congratulates General Motors...\n",
      "2020-01-08 19:24:44.000       قيمة تسلا السوقية تتخطى جنرال موتورز وفورد معا\n",
      "2020-01-08 20:06:02.000    Takata recalls 10 million U.S. replacement air...\n",
      "2020-01-08 20:30:04.005    33 Holdings LLC Launches Diversified & Opportu...\n",
      "2020-01-08 20:34:27.000    Producción y exportación de autos México dismi...\n",
      "2020-01-08 20:50:19.756    NYSE ORDER IMBALANCE <GM.N> 427215.0 SHARES ON...\n",
      "2020-01-08 20:52:18.215    Reuters Insider - Electronics-maker Harman CEO...\n",
      "2020-01-08 21:31:05.593    Plains All American Pipeline, L.P. and Plains ...\n",
      "2020-01-08 21:33:36.000    UPDATE 1-U.S. outlines strong support for self...\n",
      "2020-01-08 22:47:37.000    ACTUALIZA 1-Producción y exportación de autos ...\n",
      "2020-01-08 23:13:16.000    UPDATE 1-Tesla's market value zooms past that ...\n",
      "2020-01-08 23:39:21.310    Reuters Insider - Tesla stock worth more than ...\n",
      "2020-01-09 00:18:05.892    WSLTV Holdings Raises USD0.12 Million in Equit...\n",
      "2020-01-09 01:07:23.000    Tesla stellt bei Börsenwert GM und Ford in den...\n",
      "2020-01-09 02:23:21.000                      美国个股：一个顶俩！特斯拉市值破天荒超过通用汽车和福特汽车总和\n",
      "2020-01-09 02:23:21.000                      美國個股：一個頂倆！特斯拉市值破天荒超過通用汽車和福特汽車總和\n",
      "2020-01-09 02:27:23.000               BRIEF-安徽中鼎密封件、米ＧＭのサプライヤーにショックアブソーバーを供給\n",
      "2020-01-09 02:41:36.820    Reuters Insider - Tesla stock worth more than ...\n",
      "2020-01-09 07:29:36.852    Reuters Insider - Tesla stock worth more than ...\n",
      "2020-01-09 11:00:00.000    How Big Tech is helping transform cars into sm...\n",
      "2020-01-09 11:18:10.543    GENERAL MOTORS CO <GM.N>: BENCHMARK STARTS WIT...\n",
      "2020-01-09 11:43:10.563    Reuters Insider - Carmakers must partner to ke...\n",
      "2020-01-09 12:33:49.864    Reuters Insider - Earnings will drive markets ...\n",
      "2020-01-09 13:28:24.000    Como as gigantes de tecnologia estão ajudando ...\n",
      "2020-01-09 13:48:10.196    General Motors' 2019 China Sales Plummet, Head...\n",
      "2020-01-09 14:18:45.441    Reuters Insider - U.S. Morning Call: Global st...\n",
      "2020-01-09 14:48:43.000    Las grandes tecnológicas están ayudando a conv...\n",
      "2020-01-09 15:51:23.807    Reuters Insider - Elon Musk could be in for a ...\n",
      "2020-01-09 17:54:32.257    General Motors Financial Company, Inc. Files -...\n",
      "Name: text, dtype: object\n"
     ]
    }
   ],
   "source": [
    "print(ford_news['text'])\n",
    "print(gm_news['text'])\n",
    "ford_news_final = ford_news\n",
    "gm_news_final = gm_news"
   ]
  },
  {
   "cell_type": "code",
   "execution_count": 868,
   "metadata": {},
   "outputs": [
    {
     "data": {
      "text/plain": [
       "37"
      ]
     },
     "execution_count": 868,
     "metadata": {},
     "output_type": "execute_result"
    }
   ],
   "source": [
    "len(gm_news)"
   ]
  },
  {
   "cell_type": "code",
   "execution_count": 869,
   "metadata": {},
   "outputs": [],
   "source": [
    "ford2 = ek.get_news_headlines('FORD',count =100, date_from='2020-07-04T09:00:00', date_to='2020-07-08T18:00:00').sort_index()\n",
    "gm2 = ek.get_news_headlines('General Motors',count =100,\n",
    "                            date_from='2020-07-04T09:00:00', date_to='2020-07-08T18:00:00').sort_index()"
   ]
  },
  {
   "cell_type": "code",
   "execution_count": 870,
   "metadata": {},
   "outputs": [
    {
     "name": "stdout",
     "output_type": "stream",
     "text": [
      "50 28\n"
     ]
    }
   ],
   "source": [
    "print(len(ford2),len(gm2))"
   ]
  },
  {
   "cell_type": "code",
   "execution_count": 871,
   "metadata": {},
   "outputs": [
    {
     "name": "stdout",
     "output_type": "stream",
     "text": [
      "2020-07-04 09:03:19.488                                      Viel hilft viel\n",
      "2020-07-05 11:45:27.922    Basic Vehicles Of The Ford Brand (germany-wies...\n",
      "2020-07-05 19:00:00.000    British consortium ends after making over 13,0...\n",
      "2020-07-05 21:34:06.645              Move to name Purnea chowk after Sushant\n",
      "2020-07-05 22:00:30.000    REUTERS NEWS SCHEDULE AT 10.00 p.m. GMT/6.00 a...\n",
      "2020-07-06 04:55:30.161                      Unternehmensportrait Leonteq AG\n",
      "2020-07-06 06:10:43.153    The Ford Model T of satellites  or another of ...\n",
      "2020-07-06 06:35:58.000    Ford's China ventures extend auto sales recove...\n",
      "2020-07-06 08:01:37.321    UK NEW CAR REGISTRATIONS DOWN 34.9% YEAR-ON-YE...\n",
      "2020-07-06 10:00:00.000      Ford's Bronco SUV bucking to take on FCA's Jeep\n",
      "2020-07-06 10:01:03.945    Ford revives Bronco brand, aims at Jeep's big ...\n",
      "2020-07-06 10:03:59.805        Volvo Car Canada announces June sales results\n",
      "2020-07-06 11:47:07.332                AP Top Business News at 7:43 a.m. EDT\n",
      "2020-07-06 12:05:38.079              Ford announces Q2 2020 US sales results\n",
      "2020-07-06 13:03:53.891    BRAZIL AUTO SALES POST 113.6 PCT GROWTH IN JUN...\n",
      "2020-07-06 13:03:53.891    BRAZIL AUTO PRODUCTION POSTS 129.1 PCT GROWTH ...\n",
      "2020-07-06 13:03:56.000    Brazil auto production doubles in June from Ma...\n",
      "2020-07-06 13:31:05.721    Ford revives Bronco brand, aims at Jeep's big ...\n",
      "2020-07-06 13:33:55.000    BRAZIL AUTOMAKERS ASSOCIATION EXPECTS TO RECOV...\n",
      "2020-07-06 13:36:36.000    BRAZIL AUTOMAKERS ASSOCITION EXPECTS AUTO PROD...\n",
      "2020-07-06 13:37:08.000    BRAZIL AUTOMAKERS ASSOCIATION EXPECTS EXPORTS ...\n",
      "2020-07-06 14:25:18.000    UPDATE 1-Brazil automakers expect auto sales t...\n",
      "2020-07-06 15:05:35.923                       Ford China JVs see June growth\n",
      "2020-07-06 15:42:56.000    BRAZIL AUTO SALES SO FAR IN JULY ARE NOT HIGHE...\n",
      "2020-07-06 19:50:27.010    NYSE ORDER IMBALANCE <F.N> 357200.0 SHARES ON ...\n",
      "2020-07-06 21:34:01.520    Gangster may have crossed over to Chambal, mov...\n",
      "2020-07-06 21:34:04.801        From Auraiya, don may have crossed to Chambal\n",
      "2020-07-06 21:34:17.814    An abandoned car on highway signals don may ha...\n",
      "2020-07-07 00:10:02.089               Dexus in $173m industrial property buy\n",
      "2020-07-07 00:12:32.160          FED: Dexus in $173m industrial property buy\n",
      "2020-07-07 02:24:42.656    Niet No. 06/ts/fbd/2020 21 Dated 03.07.2020 Fo...\n",
      "2020-07-07 09:12:08.727        RUSSIA'S JUNE AUTO SALES DOWN 14.6% Y/Y - AEB\n",
      "2020-07-07 09:18:09.000    ИСПРАВЛЕНО-Продажи автомобилей в РФ в июне сни...\n",
      "2020-07-07 09:22:12.000    AEB FORECASTS A DROP IN RUSSIA'S CAR SALES IN ...\n",
      "2020-07-07 09:22:12.000     Russia's June new car sales fall 14.6% y/y - AEB\n",
      "2020-07-07 11:58:15.000    UPDATE 1-При спаде эпидемии и господдержке авт...\n",
      "2020-07-07 12:35:09.514    Why GM Looks Better Off Than Ford or Fiat Chry...\n",
      "2020-07-07 12:35:38.958    Allianz and Ford Credit Europe extend motor in...\n",
      "2020-07-07 15:13:47.395    BRONCO RETURNS: FORD'S ALL-NEW OUTDOOR BRAND F...\n",
      "2020-07-07 16:45:33.184    'Just the two of us': Pamela Silva talks givin...\n",
      "2020-07-07 17:14:11.661    Allianz extends motor insurance collaboration ...\n",
      "2020-07-07 19:21:03.000    Ford seeks to extend maturities on US$5.35bn i...\n",
      "2020-07-07 19:50:39.234    NYSE ORDER IMBALANCE <F.N> 66193.0 SHARES ON S...\n",
      "2020-07-08 09:40:45.000    BREAKINGVIEWS-Car finance giants are skidding ...\n",
      "2020-07-08 11:04:27.236    Ford selects Here platform for hands-free driving\n",
      "2020-07-08 11:11:34.324                    En México ¿con placas 'colgadas'?\n",
      "2020-07-08 12:31:02.708    Reuters Insider - Collaboration is the only re...\n",
      "2020-07-08 13:32:55.783    Reuters Insider - Anti-Defamation League CEO o...\n",
      "2020-07-08 14:53:24.942    OTS NEWS: Ford Motor Company Switzerland SA / ...\n",
      "2020-07-08 15:16:37.629    Reuters Insider - White House hosting dinner f...\n",
      "Name: text, dtype: object\n",
      "2020-07-06 05:25:02.538           UAW seeks GM plant closure, cites Covid-19\n",
      "2020-07-06 06:35:58.000    Ford's China ventures extend auto sales recove...\n",
      "2020-07-06 13:03:53.891    BRAZIL AUTO PRODUCTION POSTS 129.1 PCT GROWTH ...\n",
      "2020-07-06 13:03:53.891    BRAZIL AUTO SALES POST 113.6 PCT GROWTH IN JUN...\n",
      "2020-07-06 13:03:56.000    Brazil auto production doubles in June from Ma...\n",
      "2020-07-06 13:05:08.929              Inteva Products hails GM supplier award\n",
      "2020-07-06 13:05:13.836     Magna secures six GM Supplier of the Year Awards\n",
      "2020-07-06 13:33:55.000    BRAZIL AUTOMAKERS ASSOCIATION EXPECTS TO RECOV...\n",
      "2020-07-06 13:36:36.000    BRAZIL AUTOMAKERS ASSOCITION EXPECTS AUTO PROD...\n",
      "2020-07-06 13:37:08.000    BRAZIL AUTOMAKERS ASSOCIATION EXPECTS EXPORTS ...\n",
      "2020-07-06 14:25:18.000    UPDATE 1-Brazil automakers expect auto sales t...\n",
      "2020-07-06 15:42:56.000    BRAZIL AUTO SALES SO FAR IN JULY ARE NOT HIGHE...\n",
      "2020-07-06 16:14:47.821                           AFS SENSUB CORP. -- ABS-EE\n",
      "2020-07-06 18:49:12.000    GM seen jump starting US auto floor plan issuance\n",
      "2020-07-06 23:47:08.723    Court overturns order to have GM, Fiat Chrysle...\n",
      "2020-07-07 02:52:20.000    U.S. appeals court rejects GM's call to remove...\n",
      "2020-07-07 12:35:09.514    Why GM Looks Better Off Than Ford or Fiat Chry...\n",
      "2020-07-07 15:18:38.000    US probes fuel leaks in GM's older Chevy Cobal...\n",
      "2020-07-07 15:26:32.000    UPDATE 1-US probes fuel leaks in GM's older Ch...\n",
      "2020-07-08 12:00:10.555    1847 Holdings’ Asien’s Appliance Subsidiary Ge...\n",
      "2020-07-08 13:31:26.432    Fitch Expects to Rate AmeriCredit Automobile R...\n",
      "2020-07-08 13:31:26.447    Fitch Expects to Rate AmeriCredit Automobile R...\n",
      "2020-07-08 14:42:11.684    SOUTHEAST ASIA’S BIGGEST TOY, BABY PRODUCT SUP...\n",
      "2020-07-08 15:07:11.311                               GM axes US Sonic build\n",
      "2020-07-08 15:30:00.000    GM SAYS STEVE CARLISLE APPOINTED EXECUTIVE VP ...\n",
      "2020-07-08 15:30:00.000    GM - RORY HARVEY APPOINTED VP, CADILLAC SALES,...\n",
      "2020-07-08 15:30:00.000    GM - STEVE CARLISLE SUCCEEDS BARRY ENGLE, WHO ...\n",
      "2020-07-08 15:30:02.000    BRIEF-GM Says Steve Carlisle Appointed Executi...\n",
      "Name: text, dtype: object\n"
     ]
    }
   ],
   "source": [
    "print(ford2['text'])\n",
    "print(gm2['text'])"
   ]
  },
  {
   "cell_type": "code",
   "execution_count": 872,
   "metadata": {},
   "outputs": [
    {
     "data": {
      "text/html": [
       "<div>\n",
       "<style scoped>\n",
       "    .dataframe tbody tr th:only-of-type {\n",
       "        vertical-align: middle;\n",
       "    }\n",
       "\n",
       "    .dataframe tbody tr th {\n",
       "        vertical-align: top;\n",
       "    }\n",
       "\n",
       "    .dataframe thead th {\n",
       "        text-align: right;\n",
       "    }\n",
       "</style>\n",
       "<table border=\"1\" class=\"dataframe\">\n",
       "  <thead>\n",
       "    <tr style=\"text-align: right;\">\n",
       "      <th></th>\n",
       "      <th>versionCreated</th>\n",
       "      <th>text</th>\n",
       "      <th>storyId</th>\n",
       "      <th>sourceCode</th>\n",
       "    </tr>\n",
       "  </thead>\n",
       "  <tbody>\n",
       "    <tr>\n",
       "      <td>2020-01-07 10:02:22.333</td>\n",
       "      <td>2020-01-07 10:02:22.872000+00:00</td>\n",
       "      <td>OTS NEWS: Ford Motor Company Switzerland SA / ...</td>\n",
       "      <td>urn:newsml:newsroom:20200107:nNRAamgu43:0</td>\n",
       "      <td>NS:AWP</td>\n",
       "    </tr>\n",
       "    <tr>\n",
       "      <td>2020-01-07 10:57:57.000</td>\n",
       "      <td>2020-01-07 10:57:57+00:00</td>\n",
       "      <td>Ferrari joins European auto lobby ACEA four ye...</td>\n",
       "      <td>urn:newsml:reuters.com:20200107:nL8N29C1HT:4</td>\n",
       "      <td>NS:RTRS</td>\n",
       "    </tr>\n",
       "    <tr>\n",
       "      <td>2020-01-07 11:02:16.743</td>\n",
       "      <td>2020-01-07 11:02:16.743000+00:00</td>\n",
       "      <td>US light vehicle sales squeak by again in 2019</td>\n",
       "      <td>urn:newsml:reuters.com:20200107:nNRAamhkny:1</td>\n",
       "      <td>NS:DATMTR</td>\n",
       "    </tr>\n",
       "    <tr>\n",
       "      <td>2020-01-07 11:06:50.000</td>\n",
       "      <td>2020-01-07 11:06:50+00:00</td>\n",
       "      <td>Institut - Fortschritte beim Ökostrom reichen ...</td>\n",
       "      <td>urn:newsml:reuters.com:20200107:nL8N29C20D:2</td>\n",
       "      <td>NS:RTRS</td>\n",
       "    </tr>\n",
       "    <tr>\n",
       "      <td>2020-01-07 13:00:55.249</td>\n",
       "      <td>2020-01-07 13:00:55.249000+00:00</td>\n",
       "      <td>BRAZIL AUTO PRODUCTION POSTS 25 PCT FALL IN DE...</td>\n",
       "      <td>urn:newsml:reuters.com:20200107:nE6N28K00Z:1</td>\n",
       "      <td>NS:RTRS</td>\n",
       "    </tr>\n",
       "    <tr>\n",
       "      <td>...</td>\n",
       "      <td>...</td>\n",
       "      <td>...</td>\n",
       "      <td>...</td>\n",
       "      <td>...</td>\n",
       "    </tr>\n",
       "    <tr>\n",
       "      <td>2020-01-09 13:28:24.000</td>\n",
       "      <td>2020-01-09 13:28:24+00:00</td>\n",
       "      <td>Como as gigantes de tecnologia estão ajudando ...</td>\n",
       "      <td>urn:newsml:reuters.com:20200109:nL1N29E0CY:1</td>\n",
       "      <td>NS:RTRS</td>\n",
       "    </tr>\n",
       "    <tr>\n",
       "      <td>2020-01-09 14:03:03.187</td>\n",
       "      <td>2020-01-09 14:03:03.187000+00:00</td>\n",
       "      <td>Garmin EV-specific navigation for Ford Mustang...</td>\n",
       "      <td>urn:newsml:reuters.com:20200109:nNRAan8e85:1</td>\n",
       "      <td>NS:DATMTR</td>\n",
       "    </tr>\n",
       "    <tr>\n",
       "      <td>2020-01-09 14:18:45.441</td>\n",
       "      <td>2020-01-09 14:18:45.441000+00:00</td>\n",
       "      <td>Reuters Insider - U.S. Morning Call: Global st...</td>\n",
       "      <td>urn:newsml:reuters.com:20200109:nRTV8Q4f2h:1</td>\n",
       "      <td>NS:RTRS</td>\n",
       "    </tr>\n",
       "    <tr>\n",
       "      <td>2020-01-09 14:48:43.000</td>\n",
       "      <td>2020-01-09 14:48:43+00:00</td>\n",
       "      <td>Las grandes tecnológicas están ayudando a conv...</td>\n",
       "      <td>urn:newsml:reuters.com:20200109:nL1N29E07T:1</td>\n",
       "      <td>NS:RTRS</td>\n",
       "    </tr>\n",
       "    <tr>\n",
       "      <td>2020-01-09 15:51:23.807</td>\n",
       "      <td>2020-01-09 15:51:23.807000+00:00</td>\n",
       "      <td>Reuters Insider - Elon Musk could be in for a ...</td>\n",
       "      <td>urn:newsml:reuters.com:20200109:nRTV8k5QpH:1</td>\n",
       "      <td>NS:CNBC</td>\n",
       "    </tr>\n",
       "  </tbody>\n",
       "</table>\n",
       "<p>74 rows × 4 columns</p>\n",
       "</div>"
      ],
      "text/plain": [
       "                                          versionCreated  \\\n",
       "2020-01-07 10:02:22.333 2020-01-07 10:02:22.872000+00:00   \n",
       "2020-01-07 10:57:57.000        2020-01-07 10:57:57+00:00   \n",
       "2020-01-07 11:02:16.743 2020-01-07 11:02:16.743000+00:00   \n",
       "2020-01-07 11:06:50.000        2020-01-07 11:06:50+00:00   \n",
       "2020-01-07 13:00:55.249 2020-01-07 13:00:55.249000+00:00   \n",
       "...                                                  ...   \n",
       "2020-01-09 13:28:24.000        2020-01-09 13:28:24+00:00   \n",
       "2020-01-09 14:03:03.187 2020-01-09 14:03:03.187000+00:00   \n",
       "2020-01-09 14:18:45.441 2020-01-09 14:18:45.441000+00:00   \n",
       "2020-01-09 14:48:43.000        2020-01-09 14:48:43+00:00   \n",
       "2020-01-09 15:51:23.807 2020-01-09 15:51:23.807000+00:00   \n",
       "\n",
       "                                                                      text  \\\n",
       "2020-01-07 10:02:22.333  OTS NEWS: Ford Motor Company Switzerland SA / ...   \n",
       "2020-01-07 10:57:57.000  Ferrari joins European auto lobby ACEA four ye...   \n",
       "2020-01-07 11:02:16.743     US light vehicle sales squeak by again in 2019   \n",
       "2020-01-07 11:06:50.000  Institut - Fortschritte beim Ökostrom reichen ...   \n",
       "2020-01-07 13:00:55.249  BRAZIL AUTO PRODUCTION POSTS 25 PCT FALL IN DE...   \n",
       "...                                                                    ...   \n",
       "2020-01-09 13:28:24.000  Como as gigantes de tecnologia estão ajudando ...   \n",
       "2020-01-09 14:03:03.187  Garmin EV-specific navigation for Ford Mustang...   \n",
       "2020-01-09 14:18:45.441  Reuters Insider - U.S. Morning Call: Global st...   \n",
       "2020-01-09 14:48:43.000  Las grandes tecnológicas están ayudando a conv...   \n",
       "2020-01-09 15:51:23.807  Reuters Insider - Elon Musk could be in for a ...   \n",
       "\n",
       "                                                              storyId  \\\n",
       "2020-01-07 10:02:22.333     urn:newsml:newsroom:20200107:nNRAamgu43:0   \n",
       "2020-01-07 10:57:57.000  urn:newsml:reuters.com:20200107:nL8N29C1HT:4   \n",
       "2020-01-07 11:02:16.743  urn:newsml:reuters.com:20200107:nNRAamhkny:1   \n",
       "2020-01-07 11:06:50.000  urn:newsml:reuters.com:20200107:nL8N29C20D:2   \n",
       "2020-01-07 13:00:55.249  urn:newsml:reuters.com:20200107:nE6N28K00Z:1   \n",
       "...                                                               ...   \n",
       "2020-01-09 13:28:24.000  urn:newsml:reuters.com:20200109:nL1N29E0CY:1   \n",
       "2020-01-09 14:03:03.187  urn:newsml:reuters.com:20200109:nNRAan8e85:1   \n",
       "2020-01-09 14:18:45.441  urn:newsml:reuters.com:20200109:nRTV8Q4f2h:1   \n",
       "2020-01-09 14:48:43.000  urn:newsml:reuters.com:20200109:nL1N29E07T:1   \n",
       "2020-01-09 15:51:23.807  urn:newsml:reuters.com:20200109:nRTV8k5QpH:1   \n",
       "\n",
       "                        sourceCode  \n",
       "2020-01-07 10:02:22.333     NS:AWP  \n",
       "2020-01-07 10:57:57.000    NS:RTRS  \n",
       "2020-01-07 11:02:16.743  NS:DATMTR  \n",
       "2020-01-07 11:06:50.000    NS:RTRS  \n",
       "2020-01-07 13:00:55.249    NS:RTRS  \n",
       "...                            ...  \n",
       "2020-01-09 13:28:24.000    NS:RTRS  \n",
       "2020-01-09 14:03:03.187  NS:DATMTR  \n",
       "2020-01-09 14:18:45.441    NS:RTRS  \n",
       "2020-01-09 14:48:43.000    NS:RTRS  \n",
       "2020-01-09 15:51:23.807    NS:CNBC  \n",
       "\n",
       "[74 rows x 4 columns]"
      ]
     },
     "execution_count": 872,
     "metadata": {},
     "output_type": "execute_result"
    }
   ],
   "source": [
    "ford_news_final"
   ]
  },
  {
   "cell_type": "code",
   "execution_count": 864,
   "metadata": {},
   "outputs": [
    {
     "name": "stdout",
     "output_type": "stream",
     "text": [
      "3370 2802\n"
     ]
    }
   ],
   "source": [
    "ford_news_final = pd.concat([ford_news_final, ford2])\n",
    "gm_news_final = pd.concat([gm_news_final,gm2])\n",
    "print(len(ford_news_final),len(gm_news_final))"
   ]
  },
  {
   "cell_type": "code",
   "execution_count": 865,
   "metadata": {},
   "outputs": [],
   "source": [
    "#ford_news_final.sort_values(by = 'Date', axis=0, ascending=True, inplace=False)\n",
    "#gm_news_final.sort_values(by ='Date', axis=0, ascending=True, inplace=False)\n",
    "ford_news_final.to_csv('fordnews01.csv', sep='\\t', encoding='utf-8')\n",
    "gm_news_final.to_csv('gmnews01.csv', sep='\\t', encoding='utf-8')"
   ]
  },
  {
   "cell_type": "code",
   "execution_count": 199,
   "metadata": {},
   "outputs": [],
   "source": [
    "\n",
    "#ford_news_final.index.name = 'Date'\n",
    "#gm_news_final.index.name = 'Date'"
   ]
  },
  {
   "cell_type": "code",
   "execution_count": 101,
   "metadata": {},
   "outputs": [
    {
     "ename": "NameError",
     "evalue": "name 'X' is not defined",
     "output_type": "error",
     "traceback": [
      "\u001b[0;31m---------------------------------------------------------------------------\u001b[0m",
      "\u001b[0;31mNameError\u001b[0m                                 Traceback (most recent call last)",
      "\u001b[0;32m<ipython-input-101-30c3998113f0>\u001b[0m in \u001b[0;36m<module>\u001b[0;34m\u001b[0m\n\u001b[1;32m      1\u001b[0m \u001b[0mtrain_pct\u001b[0m \u001b[0;34m=\u001b[0m \u001b[0;36m0.80\u001b[0m\u001b[0;34m\u001b[0m\u001b[0;34m\u001b[0m\u001b[0m\n\u001b[1;32m      2\u001b[0m \u001b[0;34m\u001b[0m\u001b[0m\n\u001b[0;32m----> 3\u001b[0;31m \u001b[0mX_train\u001b[0m\u001b[0;34m,\u001b[0m\u001b[0mX_test\u001b[0m \u001b[0;34m=\u001b[0m \u001b[0mX\u001b[0m\u001b[0;34m[\u001b[0m\u001b[0;34m:\u001b[0m\u001b[0mint\u001b[0m\u001b[0;34m(\u001b[0m\u001b[0mX\u001b[0m\u001b[0;34m.\u001b[0m\u001b[0mshape\u001b[0m\u001b[0;34m[\u001b[0m\u001b[0;36m0\u001b[0m\u001b[0;34m]\u001b[0m\u001b[0;34m*\u001b[0m\u001b[0mtrain_pct\u001b[0m\u001b[0;34m)\u001b[0m\u001b[0;34m]\u001b[0m\u001b[0;34m,\u001b[0m\u001b[0mX\u001b[0m\u001b[0;34m[\u001b[0m\u001b[0mint\u001b[0m\u001b[0;34m(\u001b[0m\u001b[0mX\u001b[0m\u001b[0;34m.\u001b[0m\u001b[0mshape\u001b[0m\u001b[0;34m[\u001b[0m\u001b[0;36m0\u001b[0m\u001b[0;34m]\u001b[0m\u001b[0;34m*\u001b[0m\u001b[0mtrain_pct\u001b[0m\u001b[0;34m)\u001b[0m\u001b[0;34m:\u001b[0m\u001b[0;34m]\u001b[0m\u001b[0;34m\u001b[0m\u001b[0;34m\u001b[0m\u001b[0m\n\u001b[0m\u001b[1;32m      4\u001b[0m \u001b[0my_train\u001b[0m\u001b[0;34m,\u001b[0m\u001b[0my_test\u001b[0m \u001b[0;34m=\u001b[0m \u001b[0my\u001b[0m\u001b[0;34m[\u001b[0m\u001b[0;34m:\u001b[0m\u001b[0mint\u001b[0m\u001b[0;34m(\u001b[0m\u001b[0my\u001b[0m\u001b[0;34m.\u001b[0m\u001b[0mshape\u001b[0m\u001b[0;34m[\u001b[0m\u001b[0;36m0\u001b[0m\u001b[0;34m]\u001b[0m\u001b[0;34m*\u001b[0m\u001b[0mtrain_pct\u001b[0m\u001b[0;34m)\u001b[0m\u001b[0;34m]\u001b[0m\u001b[0;34m,\u001b[0m\u001b[0my\u001b[0m\u001b[0;34m[\u001b[0m\u001b[0mint\u001b[0m\u001b[0;34m(\u001b[0m\u001b[0my\u001b[0m\u001b[0;34m.\u001b[0m\u001b[0mshape\u001b[0m\u001b[0;34m[\u001b[0m\u001b[0;36m0\u001b[0m\u001b[0;34m]\u001b[0m\u001b[0;34m*\u001b[0m\u001b[0mtrain_pct\u001b[0m\u001b[0;34m)\u001b[0m\u001b[0;34m:\u001b[0m\u001b[0;34m]\u001b[0m\u001b[0;34m\u001b[0m\u001b[0;34m\u001b[0m\u001b[0m\n\u001b[1;32m      5\u001b[0m \u001b[0;34m\u001b[0m\u001b[0m\n",
      "\u001b[0;31mNameError\u001b[0m: name 'X' is not defined"
     ]
    }
   ],
   "source": [
    "\n"
   ]
  },
  {
   "cell_type": "code",
   "execution_count": null,
   "metadata": {},
   "outputs": [],
   "source": []
  }
 ],
 "metadata": {
  "kernelspec": {
   "display_name": "Python 3",
   "language": "python",
   "name": "python3"
  },
  "language_info": {
   "codemirror_mode": {
    "name": "ipython",
    "version": 3
   },
   "file_extension": ".py",
   "mimetype": "text/x-python",
   "name": "python",
   "nbconvert_exporter": "python",
   "pygments_lexer": "ipython3",
   "version": "3.7.4"
  }
 },
 "nbformat": 4,
 "nbformat_minor": 2
}
